{
 "cells": [
  {
   "cell_type": "markdown",
   "metadata": {},
   "source": [
    "# Nonlinear Solvers\n",
    "\n",
    "Thus far, our examples have been focused on defining explicit mathematical relationships of the form $y = f(x)$. CSDL also provides an interface to define implicit relationships between variables of the form $f(x,y) = 0$ where $x$ represents parameters (inputs) and $y$ represents states (outputs). Iterative numerical methods (nonlinear solvers) are often used to solve for $y$ given $x$ by perturbing the values of $y$ to drive $r = f(x,y)$ to zero.\n",
    "\n",
    "In this tutorial, we will show you how to specify this using CSDL's ImplicitVariable and nonlinear solver library.\n",
    "\n",
    "We will use a simple nonlinear system of equations as our example (from https://engcourses-uofa.ca/books/numericalanalysis/nonlinear-systems-of-equations/fixed-point-iteration-method/):\n",
    "\n",
    "$2a = {x_1}^2 + {x_1}{x_2}$\n",
    "\n",
    "$57 = {x_2}+3{x_1}{x_2}^2$\n",
    "\n",
    "where $a$ is a parameter and $x_1$, $x_2$ are the states. We can rewrite this in the form $r = f(x, y)$:  \n",
    "\n",
    "$r_1 = {x_1}-\\sqrt{a-{x_1}{x_2}}$\n",
    "\n",
    "$r_2 = {x_2}-\\sqrt{\\frac{57-{x_2}}{3{x_1}}}$\n",
    "\n",
    "where $r_1$ and $r_2$ represents the residuals to drive to zero. In order to define this implicit relationship in CSDL, we start by initializing our state variables using CSDL's ImplicitVariable class and the parameter 'a' can  be initialized like any standard CSDL variable. We then compute the residuals explicitly from the state variables and parameters using CSDL operations."
   ]
  },
  {
   "cell_type": "code",
   "execution_count": 1,
   "metadata": {},
   "outputs": [
    {
     "name": "stdout",
     "output_type": "stream",
     "text": [
      "residual_1: [-0.67944947]\n",
      "residual_2: [0.05197319]\n"
     ]
    }
   ],
   "source": [
    "import csdl_alpha as csdl\n",
    "recorder = csdl.Recorder(inline=True)\n",
    "recorder.start()\n",
    "x1 = csdl.ImplicitVariable(name='x1', value=1.5) # States must be ImplicitVariable objects\n",
    "x2 = csdl.ImplicitVariable(name='x2', value=3.5)\n",
    "a = csdl.Variable(name='a', value=5.0) # Parameters can be standard variable objects\n",
    "\n",
    "# compute the residuals\n",
    "x1x2 = x1*x2\n",
    "residual_1 = x1-csdl.sqrt(2*a-x1x2)\n",
    "residual_2 = x2-csdl.sqrt((57-x2)/(3*x1))\n",
    "\n",
    "# add names to the variables for later\n",
    "x1x2.add_name('x1x2')\n",
    "residual_1.add_name('residual_1')\n",
    "residual_2.add_name('residual_2')\n",
    "\n",
    "print('residual_1:', residual_1.value) # The computed values of the residuals are not zero yet.\n",
    "print('residual_2:', residual_2.value)"
   ]
  },
  {
   "cell_type": "markdown",
   "metadata": {},
   "source": [
    "At this point in the code, we have computed the states and residuals but haven't specified any coupling between them. We can do this by using CSDL's nonlinear solvers.\n",
    "\n",
    "In this example, we initialize a GaussSeidel solver and give the solver a name 'nlsolver_x1_x2'. Finally, we can assign states to residuals using the the nonlinear solver's add_state method."
   ]
  },
  {
   "cell_type": "code",
   "execution_count": 2,
   "metadata": {},
   "outputs": [],
   "source": [
    "solver = csdl.nonlinear_solvers.GaussSeidel('nlsolver_x1_x2')\n",
    "solver.add_state(x1, residual_1) # Specify that the residual of the state x1 is residual_1 \n",
    "solver.add_state(x2, residual_2) # Specify that the residual of the state x2 is residual_2"
   ]
  },
  {
   "cell_type": "markdown",
   "metadata": {},
   "source": [
    "Once the states and residual pairs have been assigned to a solver, call the run method to finalize the implicit operation. This step builds an implicit operation node in the graph by analyzing the computational graph built *thus far* (this is important for later). If ```inline = True``` was set when building the recorder, this is the point when the nonlinear solver is ran."
   ]
  },
  {
   "cell_type": "code",
   "execution_count": 3,
   "metadata": {},
   "outputs": [
    {
     "name": "stdout",
     "output_type": "stream",
     "text": [
      "COMPUTING NLSOLVER INLINE: nlsolver_x1_x2\n",
      "nonlinear solver: nlsolver_x1_x2 converged in 21 iterations.\n",
      "state x1:  [2.]\n",
      "state x2:  [3.]\n",
      "residual x1:  [-3.80129261e-11]\n",
      "residual x2:  [2.52153853e-12]\n",
      "x1x2:  [6.]\n"
     ]
    }
   ],
   "source": [
    "solver.run()\n",
    "\n",
    "# The solved states\n",
    "print('state x1: ', x1.value)\n",
    "print('state x2: ', x2.value)\n",
    "\n",
    "# The solved residuals\n",
    "print('residual x1: ', residual_1.value)\n",
    "print('residual x2: ', residual_2.value)\n",
    "\n",
    "# intermediate values also get updated after the solver.run() call\n",
    "print('x1x2: ', x1x2.value)\n",
    "recorder.stop()"
   ]
  },
  {
   "cell_type": "markdown",
   "metadata": {},
   "source": [
    "It can be assumed that any implicit variables (```x1``` and ```x2```) represent the solved state at any point of the code and can be used like any other variable. If running inline, the state variables and any variables that depend on them are updated, such as ```x1x2 = x1*x2``` defined earlier.\n",
    "\n",
    "## Under the Hood\n",
    "Because CSDL keeps track of all relationships between variables under the hood, it automatically edits the graph and creates an implicit operation node when the ```.run()``` method is called. The updated graph is then executed to update all the variables.\n",
    "\n",
    "![alt text](graph.png \"Title\")\n",
    "\n",
    "The figure above shows the computational graph right before ```.run()``` is called and right after. On the left, the graph represents only the explicit calculation of the residuals because CSDL the coupling has not yet been set. On the right is the graph that represents the proper coupling.\n",
    "\n",
    "## Nonlinear Solver Hierarchies\n",
    "\n",
    "More complicated models often require multiple nonlinear solvers. The structure of the nonlinear solvers and the interfacing between each other can have a significant impact on the performance of the numerical method. Lets see how we solve the same problem but with two separate nonlinear solvers instead of one.\n"
   ]
  },
  {
   "cell_type": "code",
   "execution_count": 4,
   "metadata": {},
   "outputs": [
    {
     "name": "stdout",
     "output_type": "stream",
     "text": [
      "residual_1: [-0.67944947]\n",
      "residual_2: [0.05197319]\n",
      "COMPUTING NLSOLVER INLINE: nlsolver_x1_inner\n",
      "\n",
      "nonlinear solver: nlsolver_x1_inner did not converge in 100 iterations.\n",
      "\t<csdl_alpha.src.graph.variable.ImplicitVariable object at 0x7835ded4dbb0>\n",
      "\t\tname:  x1\n",
      "\t\tval:    [1.8635385]\n",
      "\t\tres:    [-0.00129802]\n",
      "\n",
      "COMPUTING NLSOLVER INLINE: nlsolver_x2_outer\n",
      "COMPUTING NLSOLVER INLINE: nlsolver_x1_inner\n",
      "\n",
      "nonlinear solver: nlsolver_x1_inner did not converge in 100 iterations.\n",
      "\t<csdl_alpha.src.graph.variable.ImplicitVariable object at 0x7835ded4dbb0>\n",
      "\t\tname:  x1\n",
      "\t\tval:    [1.8635385]\n",
      "\t\tres:    [-0.00129802]\n",
      "\n",
      "COMPUTING NLSOLVER INLINE: nlsolver_x1_inner\n",
      "nonlinear solver: nlsolver_x1_inner converged in 93 iterations.\n",
      "COMPUTING NLSOLVER INLINE: nlsolver_x1_inner\n",
      "nonlinear solver: nlsolver_x1_inner converged in 93 iterations.\n",
      "COMPUTING NLSOLVER INLINE: nlsolver_x1_inner\n",
      "nonlinear solver: nlsolver_x1_inner converged in 81 iterations.\n",
      "COMPUTING NLSOLVER INLINE: nlsolver_x1_inner\n",
      "nonlinear solver: nlsolver_x1_inner converged in 81 iterations.\n",
      "COMPUTING NLSOLVER INLINE: nlsolver_x1_inner\n",
      "nonlinear solver: nlsolver_x1_inner converged in 79 iterations.\n",
      "COMPUTING NLSOLVER INLINE: nlsolver_x1_inner\n",
      "nonlinear solver: nlsolver_x1_inner converged in 79 iterations.\n",
      "COMPUTING NLSOLVER INLINE: nlsolver_x1_inner\n",
      "nonlinear solver: nlsolver_x1_inner converged in 79 iterations.\n",
      "COMPUTING NLSOLVER INLINE: nlsolver_x1_inner\n",
      "nonlinear solver: nlsolver_x1_inner converged in 79 iterations.\n",
      "COMPUTING NLSOLVER INLINE: nlsolver_x1_inner\n",
      "nonlinear solver: nlsolver_x1_inner converged in 79 iterations.\n",
      "COMPUTING NLSOLVER INLINE: nlsolver_x1_inner\n",
      "nonlinear solver: nlsolver_x1_inner converged in 79 iterations.\n",
      "COMPUTING NLSOLVER INLINE: nlsolver_x1_inner\n",
      "nonlinear solver: nlsolver_x1_inner converged in 79 iterations.\n",
      "COMPUTING NLSOLVER INLINE: nlsolver_x1_inner\n",
      "nonlinear solver: nlsolver_x1_inner converged in 79 iterations.\n",
      "COMPUTING NLSOLVER INLINE: nlsolver_x1_inner\n",
      "nonlinear solver: nlsolver_x1_inner converged in 79 iterations.\n",
      "COMPUTING NLSOLVER INLINE: nlsolver_x1_inner\n",
      "nonlinear solver: nlsolver_x1_inner converged in 79 iterations.\n",
      "COMPUTING NLSOLVER INLINE: nlsolver_x1_inner\n",
      "nonlinear solver: nlsolver_x1_inner converged in 79 iterations.\n",
      "COMPUTING NLSOLVER INLINE: nlsolver_x1_inner\n",
      "nonlinear solver: nlsolver_x1_inner converged in 79 iterations.\n",
      "COMPUTING NLSOLVER INLINE: nlsolver_x1_inner\n",
      "nonlinear solver: nlsolver_x1_inner converged in 79 iterations.\n",
      "COMPUTING NLSOLVER INLINE: nlsolver_x1_inner\n",
      "nonlinear solver: nlsolver_x1_inner converged in 79 iterations.\n",
      "COMPUTING NLSOLVER INLINE: nlsolver_x1_inner\n",
      "nonlinear solver: nlsolver_x1_inner converged in 79 iterations.\n",
      "COMPUTING NLSOLVER INLINE: nlsolver_x1_inner\n",
      "nonlinear solver: nlsolver_x1_inner converged in 79 iterations.\n",
      "COMPUTING NLSOLVER INLINE: nlsolver_x1_inner\n",
      "nonlinear solver: nlsolver_x1_inner converged in 79 iterations.\n",
      "COMPUTING NLSOLVER INLINE: nlsolver_x1_inner\n",
      "nonlinear solver: nlsolver_x1_inner converged in 79 iterations.\n",
      "COMPUTING NLSOLVER INLINE: nlsolver_x1_inner\n",
      "nonlinear solver: nlsolver_x1_inner converged in 79 iterations.\n",
      "COMPUTING NLSOLVER INLINE: nlsolver_x1_inner\n",
      "nonlinear solver: nlsolver_x1_inner converged in 79 iterations.\n",
      "COMPUTING NLSOLVER INLINE: nlsolver_x1_inner\n",
      "nonlinear solver: nlsolver_x1_inner converged in 79 iterations.\n",
      "COMPUTING NLSOLVER INLINE: nlsolver_x1_inner\n",
      "nonlinear solver: nlsolver_x1_inner converged in 79 iterations.\n",
      "COMPUTING NLSOLVER INLINE: nlsolver_x1_inner\n",
      "nonlinear solver: nlsolver_x1_inner converged in 79 iterations.\n",
      "nonlinear solver: nlsolver_x2_outer converged in 13 iterations.\n",
      "state x1:  [2.]\n",
      "state x2:  [3.]\n",
      "residual x1:  [-8.55122639e-11]\n",
      "residual x2:  [2.51096921e-11]\n",
      "x1x2:  [6.]\n"
     ]
    }
   ],
   "source": [
    "recorder = csdl.Recorder(inline=True)\n",
    "recorder.start()\n",
    "x1 = csdl.ImplicitVariable(name='x1', value=1.5) # States must be ImplicitVariable objects\n",
    "x2 = csdl.ImplicitVariable(name='x2', value=3.5)\n",
    "a = csdl.Variable(name='a', value=5.0) # Parameters can be standard variable objects\n",
    "\n",
    "# compute the residuals\n",
    "x1x2 = x1*x2\n",
    "residual_1 = x1-csdl.sqrt(2*a-x1x2)\n",
    "residual_2 = x2-csdl.sqrt((57-x2)/(3*x1))\n",
    "\n",
    "# add names to the variables for later\n",
    "x1x2.add_name('x1x2')\n",
    "residual_1.add_name('residual_1')\n",
    "residual_2.add_name('residual_2')\n",
    "\n",
    "print('residual_1:', residual_1.value) # The computed values of the residuals are not zero yet.\n",
    "print('residual_2:', residual_2.value)\n",
    "\n",
    "# Move the states to two different solvers\n",
    "solver = csdl.nonlinear_solvers.GaussSeidel('nlsolver_x1_inner')\n",
    "solver.add_state(x1, residual_1) # Specify that the residual of the state x1 is residual_1 \n",
    "solver.run()\n",
    "\n",
    "solver = csdl.nonlinear_solvers.GaussSeidel('nlsolver_x2_outer')\n",
    "solver.add_state(x2, residual_2) # Specify that the residual of the state x2 is residual_2\n",
    "solver.run()\n",
    "\n",
    "# The solved states\n",
    "print('state x1: ', x1.value)\n",
    "print('state x2: ', x2.value)\n",
    "\n",
    "# The solved residuals\n",
    "print('residual x1: ', residual_1.value)\n",
    "print('residual x2: ', residual_2.value)\n",
    "\n",
    "# intermediate values also get updated after the solver.run() call\n",
    "print('x1x2: ', x1x2.value)\n",
    "recorder.stop()"
   ]
  },
  {
   "cell_type": "markdown",
   "metadata": {},
   "source": [
    "We can see that the nonlinear solvers converged to the same values as our previous example. However, we used two nonlinear solvers instead of one. \n",
    "\n",
    "Here are what the computational graphs looked like before the first run call, right after the second run call and right after the third run call.\n",
    "\n",
    "![alt text](graph2.png \"Title\")\n",
    "\n",
    "Because we ran the solver 'nlsolver_x2_outer' after the solver 'nlsolver_x1_inner', the solver 'nlsolver_x1_inner' ended up being nested in the solver 'nlsolver_x2_outer'"
   ]
  }
 ],
 "metadata": {
  "kernelspec": {
   "display_name": "csdl_a",
   "language": "python",
   "name": "python3"
  },
  "language_info": {
   "codemirror_mode": {
    "name": "ipython",
    "version": 3
   },
   "file_extension": ".py",
   "mimetype": "text/x-python",
   "name": "python",
   "nbconvert_exporter": "python",
   "pygments_lexer": "ipython3",
   "version": "3.9.19"
  }
 },
 "nbformat": 4,
 "nbformat_minor": 2
}
