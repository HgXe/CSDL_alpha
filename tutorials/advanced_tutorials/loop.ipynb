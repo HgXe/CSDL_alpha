{
 "cells": [
  {
   "cell_type": "markdown",
   "metadata": {},
   "source": [
    "# CSDL Loops\n",
    "\n",
    "CSDL contains a custom iterable for use in for loops that can accelerate compilation of CSDL code, use less memory, and give better run-time performance. In some cases, CSDL loops can replace manually vectorized code while maintaining similar performance. In addition to easing implementation, this results in more readable code, and is the recommended approach.\n",
    "\n",
    "This tutorial shows how to use CSDL loops, explains when ths should and shouldn't be used, and gives an overview of how they work and their performance benefits.\n",
    "\n",
    "## Basic Usage\n",
    "\n",
    "To start, we'll import the necessary libraries and demonstrate a simple example of a CSDL loop, where we're summing the elements of an array.\n"
   ]
  },
  {
   "cell_type": "code",
   "execution_count": null,
   "metadata": {},
   "outputs": [
    {
     "name": "stdout",
     "output_type": "stream",
     "text": [
      "[10000.]\n"
     ]
    }
   ],
   "source": [
    "import csdl_alpha as csdl\n",
    "import numpy as np\n",
    "recorder = csdl.Recorder(inline=True)\n",
    "recorder.start()\n",
    "dim = 100\n",
    "array = np.ones((dim, dim))\n",
    "\n",
    "sum = csdl.Variable(value=0)\n",
    "array = csdl.Variable(value=array)\n",
    "for i in csdl.frange(dim):\n",
    "    for j in csdl.frange(dim):\n",
    "        sum = sum + array[i, j]\n",
    "recorder.stop()\n",
    "print(sum.value)"
   ]
  },
  {
   "cell_type": "markdown",
   "metadata": {},
   "source": [
    "As can be seen in this example, the CSDL loop is used in the same way as a normal for loop, but with the `csdl.frange` function used to generate the range of values to iterate over. While it looks like the full range is being iterated over, the loop is actually unrolled by the backend, and CSDL only stores a graph representing a single iteration of the loop. This means that the memory and time complexity of the loop is O(1) with respect to the number of iterations, and the loop can be used with very large ranges.\n",
    "\n",
    "```{note}\n",
    "Inline evaluation of CSDL loops does not apply any optimization, and the loop will be executed as normal. To see the performance benefits of CSDL loops, the code must be compiled and run.\n",
    "```\n",
    "\n",
    "To demonstrate the performance benefits, we'll compare the performance of the CSDL loop to a standard python loop:"
   ]
  },
  {
   "cell_type": "code",
   "execution_count": 9,
   "metadata": {},
   "outputs": [
    {
     "name": "stdout",
     "output_type": "stream",
     "text": [
      "csdl loop time:  0.14968514442443848\n",
      "standard loop time:  3.2866744995117188\n"
     ]
    }
   ],
   "source": [
    "import time\n",
    "\n",
    "dim = 300\n",
    "np_array = np.random.rand(dim, dim)\n",
    "\n",
    "# CSDL Loop\n",
    "recorder = csdl.Recorder()\n",
    "recorder.start()\n",
    "\n",
    "sum = csdl.Variable(value=0)\n",
    "array = csdl.Variable(value=np_array)\n",
    "start = time.time()\n",
    "for i in csdl.frange(dim):\n",
    "    for j in csdl.frange(dim):\n",
    "        sum = sum + array[i, j]\n",
    "print('csdl loop time: ', time.time() - start)\n",
    "recorder.stop()\n",
    "\n",
    "# Standard Loop\n",
    "recorder = csdl.Recorder()\n",
    "recorder.start()\n",
    "\n",
    "sum = csdl.Variable(value=0)\n",
    "array = csdl.Variable(value=np_array)\n",
    "start = time.time()\n",
    "for i in range(dim):\n",
    "    for j in range(dim):\n",
    "        sum = sum + array[i, j]\n",
    "print('standard loop time: ', time.time() - start)\n",
    "recorder.stop()\n"
   ]
  },
  {
   "cell_type": "markdown",
   "metadata": {},
   "source": [
    "## Loop Requirements\n",
    "\n",
    "While CSDL loops can be used in many cases, there are some requirements that must be met for the loop to be valid. In short, because CSDL represents the loop using the graph of a single iteration, this graph cannot change between iterations, and everything done within the loop must be representable by the graph. This can be ensured by following these rules:\n",
    "\n",
    "- The loop must consist of only CSDL operations and CSDL variable creations.\n",
    "- The loop must not contain any conditional statements.\n",
    "- Variable setting and getting can depend on the loop index, but slices must be constant size.\n",
    "\n",
    "```{warning}\n",
    "CSDL does not currently allow slices using the loop index, so lists must be used instead. This is a limitation of the current implementation, and may be fixed in the future.\n",
    "```\n",
    "\n",
    "If these requirements are met, the loop can be used in place of a normal for loop, and will be compiled to a more efficient form. The first rule specifically may mean that some loops may need to be rewritten to use CSDL loops, but this can usually be accomplished by breaking the loop into two loops, one standard loop for non-CSDL operations, and one CSDL loop for CSDL operations. The following example demonstrates this in the context of assembling a sparse matrix. Constructing the row and column indices of the matrix is done with a standard loop, while the data is assembled with a CSDL loop.\n",
    "\n"
   ]
  },
  {
   "cell_type": "code",
   "execution_count": 10,
   "metadata": {},
   "outputs": [],
   "source": [
    "recorder = csdl.Recorder()\n",
    "recorder.start()\n",
    "\n",
    "num_elements = 10\n",
    "rows = np.zeros(16 * num_elements, dtype=np.int32)\n",
    "cols = np.zeros(16 * num_elements, dtype=np.int32)\n",
    "data = csdl.Variable(value=np.zeros((16 * num_elements,)))\n",
    "K_local = csdl.Variable(value=np.random.rand(num_elements, 4, 4))\n",
    "j = 16\n",
    "for ind in range(num_elements): \n",
    "   ind1 = 2 * ind\n",
    "   # NE quadrant\n",
    "   rows[j:j+4] = np.array([ind1, ind1, ind1 + 1, ind1 + 1])\n",
    "   cols[j:j+4] = np.array([ind1 + 2, ind1 + 3, ind1 + 2, ind1 + 3])\n",
    "\n",
    "   # SE and SW quadrants together\n",
    "   rows[j+4:j+12] = np.repeat(np.arange(ind1 + 2, ind1 + 4), 4)\n",
    "   cols[j+4:j+12] = np.tile(np.arange(ind1, ind1 + 4), 2)\n",
    "\n",
    "   j += 12\n",
    "\n",
    "j_offset = 16\n",
    "for ind in csdl.frange(num_elements):\n",
    "   j = j_offset + ind * 12\n",
    "   ind1 = 2 * ind\n",
    "   K = K_local[ind, :, :]\n",
    "\n",
    "   # NW quadrant gets summed with previous connected element.\n",
    "   indices1 = [j-6, j-5]\n",
    "   indices2 = [j-2, j-1]\n",
    "   data = data.set(csdl.slice[indices1], data[indices1] + K[0, :2])\n",
    "   data = data.set(csdl.slice[indices2], data[indices2] + K[1, :2])\n",
    "\n",
    "   # NE quadrant\n",
    "   data = data.set(csdl.slice[[j, j+1, j+2, j+3]], K[:2, 2:].flatten())\n",
    "\n",
    "   # SE and SW quadrants together\n",
    "   data = data.set(csdl.slice[[j+4, j+5, j+6, j+7, j+8, j+9, j+10, j+11]], K[2:, :].flatten())\n",
    "\n",
    "recorder.stop()"
   ]
  },
  {
   "cell_type": "markdown",
   "metadata": {},
   "source": [
    "## Under the hood\n",
    "\n",
    "While CSDL is able to represent a loop using the graph from a single iteration, obtaining this graph requires two iterations of the loop. This is needed to find feedback in the loop - that is, variables that are used then overwritten in the same iteration.\n",
    "\n",
    "To demonstrate this, we'll using the following example, which calculates the sum of the first n numbers:"
   ]
  },
  {
   "cell_type": "code",
   "execution_count": 11,
   "metadata": {},
   "outputs": [],
   "source": [
    "recorder = csdl.Recorder()\n",
    "recorder.start()\n",
    "\n",
    "sum = csdl.Variable(value=0)\n",
    "n = 100\n",
    "for i in csdl.frange(n):\n",
    "    sum = sum + i\n"
   ]
  },
  {
   "cell_type": "markdown",
   "metadata": {},
   "source": [
    "The following image shows the graph of the loop after the first iteration, after the second iteration, and the final graph after all processing is completed:\n",
    "\n",
    "![alt text](loop_graphs.svg \"Loop Graphs\")\n",
    "\n",
    "The process for generating the final graph is as follows:\n",
    "\n",
    "1. The loop is executed once, generating the graph for the first iteration.\n",
    "2. The graph is parsed to make an ordered list of all inputs and outputs - that is, all variables that feed into operations but are not outputs of operations, and all outputs of operations.\n",
    "3. All operations are removed from the graph\n",
    "4. The loop is executed again, generating the graph for the second iteration.\n",
    "5. The graph is again parsed to make an ordered list of all inputs. This list is compared to the list from the first iteration, and any variables that changed and are outputs from the first iteration are marked as feedback.\n",
    "6. All inputs and outputs from the first iteration that are not used in the second are removed from the graph, resulting in the final graph.\n",
    "\n",
    "This process is repeated for each loop in the code, and the final graph is compiled and executed. This process is what allows CSDL loops to be used in place of normal loops, and is what allows them to be more efficient."
   ]
  }
 ],
 "metadata": {
  "kernelspec": {
   "display_name": "csdl_dev",
   "language": "python",
   "name": "python3"
  },
  "language_info": {
   "codemirror_mode": {
    "name": "ipython",
    "version": 3
   },
   "file_extension": ".py",
   "mimetype": "text/x-python",
   "name": "python",
   "nbconvert_exporter": "python",
   "pygments_lexer": "ipython3",
   "version": "3.12.2"
  }
 },
 "nbformat": 4,
 "nbformat_minor": 2
}
